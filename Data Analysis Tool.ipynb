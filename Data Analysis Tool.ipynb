{
 "cells": [
  {
   "cell_type": "code",
   "execution_count": 1,
   "id": "18e18955",
   "metadata": {},
   "outputs": [],
   "source": [
    "import numpy as np \n",
    "import pandas as pd"
   ]
  },
  {
   "cell_type": "code",
   "execution_count": 2,
   "id": "6be12375",
   "metadata": {},
   "outputs": [],
   "source": [
    "import matplotlib.pyplot as plt"
   ]
  },
  {
   "cell_type": "code",
   "execution_count": 3,
   "id": "a830e8f1",
   "metadata": {},
   "outputs": [
    {
     "name": "stdout",
     "output_type": "stream",
     "text": [
      "=== Basic Data Analysis Tool ===\n",
      "Enter the path to your CSV file: \n",
      "Error: [Errno 2] No such file or directory: ''\n",
      "Would you like to try again? (yes/no): yes\n",
      "Enter the path to your CSV file: \n",
      "Error: [Errno 2] No such file or directory: ''\n",
      "Would you like to try again? (yes/no): yes\n",
      "Enter the path to your CSV file: \"C:\\Users\\lata6\\anaconda3\\pkgs\\scikit-learn-1.2.1-py310hd77b12b_0\\Lib\\site-packages\\sklearn\\datasets\\data\\iris.csv\"\n",
      "\n",
      "Dataset loaded successfully!\n",
      "\n",
      "Preview of the dataset:\n",
      "   150    4  setosa  versicolor  virginica\n",
      "0  5.1  3.5     1.4         0.2          0\n",
      "1  4.9  3.0     1.4         0.2          0\n",
      "2  4.7  3.2     1.3         0.2          0\n",
      "3  4.6  3.1     1.5         0.2          0\n",
      "4  5.0  3.6     1.4         0.2          0\n",
      "\n",
      "Available columns for analysis:\n",
      "['150', '4', 'setosa', 'versicolor', 'virginica']\n",
      "Enter the column name for analysis: setosa\n",
      "\n",
      "Analyzing column: setosa\n",
      "\n",
      "Mean: 3.7580000000000005\n",
      "Median: 4.35\n",
      "Mode: 1.4\n"
     ]
    },
    {
     "data": {
      "image/png": "[encoded data removed]",
      "text/plain": [
       "<Figure size 1000x600 with 1 Axes>"
      ]
     },
     "metadata": {},
     "output_type": "display_data"
    }
   ],
   "source": [
    "import pandas as pd\n",
    "import numpy as np\n",
    "import matplotlib.pyplot as plt\n",
    "\n",
    "def load_csv():\n",
    "    \"\"\"\n",
    "    Prompt the user to input the file path for the CSV file and load it.\n",
    "    Handles errors and shows a preview of the dataset.\n",
    "    \"\"\"\n",
    "    while True:\n",
    "        file_path = input(\"Enter the path to your CSV file: \").strip().strip('\"')\n",
    "        try:\n",
    "            data = pd.read_csv(file_path)\n",
    "            print(\"\\nDataset loaded successfully!\\n\")\n",
    "            print(\"Preview of the dataset:\")\n",
    "            print(data.head())\n",
    "            return data\n",
    "        except Exception as e:\n",
    "            print(f\"Error: {e}\")\n",
    "            retry = input(\"Would you like to try again? (yes/no): \").strip().lower()\n",
    "            if retry != 'yes':\n",
    "                return None\n",
    "\n",
    "def analyze_column(data):\n",
    "    \"\"\"\n",
    "    Allow the user to select a column for analysis and compute mean, median, and mode.\n",
    "    \"\"\"\n",
    "    print(\"\\nAvailable columns for analysis:\")\n",
    "    print(list(data.columns))\n",
    "    \n",
    "    while True:\n",
    "        column_name = input(\"Enter the column name for analysis: \").strip()\n",
    "        if column_name not in data.columns:\n",
    "            print(f\"Column '{column_name}' not found in the dataset. Try again.\")\n",
    "        else:\n",
    "            break\n",
    "    \n",
    "    values = data[column_name].dropna()\n",
    "    if not np.issubdtype(values.dtype, np.number):\n",
    "        print(f\"The selected column '{column_name}' is not numeric. Cannot perform analysis.\")\n",
    "        return\n",
    "    \n",
    "    print(f\"\\nAnalyzing column: {column_name}\\n\")\n",
    "    mean_val = np.mean(values)\n",
    "    median_val = np.median(values)\n",
    "    mode_val = values.mode().iloc[0] if not values.mode().empty else None\n",
    "    \n",
    "    print(f\"Mean: {mean_val}\")\n",
    "    print(f\"Median: {median_val}\")\n",
    "    print(f\"Mode: {mode_val}\")\n",
    "    return column_name, values\n",
    "\n",
    "def visualize_data(column_name, values):\n",
    "    \"\"\"\n",
    "    Create a histogram to visualize the selected column's data distribution.\n",
    "    \"\"\"\n",
    "    plt.figure(figsize=(10, 6))\n",
    "    plt.hist(values, bins=20, color='skyblue', edgecolor='black')\n",
    "    plt.title(f\"Histogram of {column_name}\")\n",
    "    plt.xlabel(column_name)\n",
    "    plt.ylabel(\"Frequency\")\n",
    "    plt.grid(True)\n",
    "    plt.show()\n",
    "\n",
    "if __name__ == \"__main__\":\n",
    "    print(\"=== Basic Data Analysis Tool ===\")\n",
    "    \n",
    "    # Step 1: Load dataset\n",
    "    data = load_csv()\n",
    "    if data is None:\n",
    "        print(\"Exiting the program. Please provide a valid dataset next time.\")\n",
    "    else:\n",
    "        # Step 2: Perform analysis\n",
    "        result = analyze_column(data)\n",
    "        if result:\n",
    "            column_name, values = result\n",
    "            \n",
    "            # Step 3: Visualize the results\n",
    "            visualize_data(column_name, values)\n"
   ]
  },
  {
   "cell_type": "code",
   "execution_count": null,
   "id": "c559393f",
   "metadata": {},
   "outputs": [],
   "source": []
  }
 ],
 "metadata": {
  "kernelspec": {
   "display_name": "Python 3 (ipykernel)",
   "language": "python",
   "name": "python3"
  },
  "language_info": {
   "codemirror_mode": {
    "name": "ipython",
    "version": 3
   },
   "file_extension": ".py",
   "mimetype": "text/x-python",
   "name": "python",
   "nbconvert_exporter": "python",
   "pygments_lexer": "ipython3",
   "version": "3.10.0"
  }
 },
 "nbformat": 4,
 "nbformat_minor": 5
}
